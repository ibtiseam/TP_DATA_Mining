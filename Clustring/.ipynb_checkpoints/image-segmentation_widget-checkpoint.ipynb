{
 "cells": [
  {
   "cell_type": "markdown",
   "metadata": {},
   "source": [
    "<img src=\"tpan1.PNG\">\n"
   ]
  },
  {
   "cell_type": "markdown",
   "metadata": {},
   "source": [
    "<h2> <span style=\"color:#0000C0\">Introduction</span></h2>\n"
   ]
  },
  {
   "cell_type": "markdown",
   "metadata": {},
   "source": [
    "<B>C</B>lustering is a Machine Learning technique and it can be used also in data mining  that involves the grouping of data points. Given a set of data points, we can use a clustering algorithm to classify each data point into a specific group. In theory, data points that are in the same group should have similar properties and/or features, while data points in different groups should have highly dissimilar properties and/or features. Clustering is a method of unsupervised learning and is a common technique for statistical data analysis used in many fields ( AI,ML,DATA MINING ,...) </br> \n",
    "\n",
    "<B>I</B>n our case Study , we will apply clustering on Images using k-means Algorithm  then we will add a noise to image and reapply k-means Algorithm then filtring noise and use k-mean algorithm on the image After filtring  \n",
    "<B>l</B>ibraries used : <B> Sklearn and Open Cv </B> "
   ]
  },
  {
   "cell_type": "markdown",
   "metadata": {},
   "source": [
    "## <span style=\"color:#0000C0\">Step 1 </span>: <B> Application of K-means on  an Image ( Image Segmentation)</B>  \n"
   ]
  },
  {
   "cell_type": "code",
   "execution_count": 3,
   "metadata": {},
   "outputs": [
    {
     "name": "stdout",
     "output_type": "stream",
     "text": [
      "Requirement already satisfied: opencv-python in c:\\users\\user\\anaconda3\\lib\\site-packages (4.4.0.44)\n",
      "Requirement already satisfied: numpy>=1.17.3 in c:\\users\\user\\anaconda3\\lib\\site-packages (from opencv-python) (1.18.5)\n",
      "Note: you may need to restart the kernel to use updated packages.\n"
     ]
    }
   ],
   "source": [
    "#pip install opencv-python"
   ]
  },
  {
   "cell_type": "code",
   "execution_count": 2,
   "metadata": {},
   "outputs": [],
   "source": [
    "from ipywidgets import interact,interactive,fixed,interact_manual\n",
    "import ipywidgets as widgets\n",
    "from sklearn.cluster import KMeans\n",
    "import cv2\n",
    "import pandas as pd\n",
    "import numpy as np \n",
    "import matplotlib.pyplot as plt\n"
   ]
  },
  {
   "cell_type": "code",
   "execution_count": 26,
   "metadata": {},
   "outputs": [],
   "source": [
    "\n",
    "def segm(k):\n",
    "    attempts=10\n",
    "    image = cv2.imread('landscape.jpeg')\n",
    "    criteria = (cv2.TERM_CRITERIA_EPS + cv2.TERM_CRITERIA_MAX_ITER, 10, 1.0)\n",
    "    vectorized = image.reshape((-1,3))\n",
    "    vectorized = np.float32(vectorized)\n",
    "    ret,label,center=cv2.kmeans(vectorized,k,None,criteria,attempts,cv2.KMEANS_PP_CENTERS)\n",
    "    res3 = center[label.flatten()]\n",
    "    out4 = res3.reshape((image.shape))\n",
    "\n",
    " #reshape the feature vectors to images\n",
    "    quant = quant.reshape((h1, w1, 3))\n",
    "    image = image.reshape((h1, w1, 3))\n",
    "    \n",
    "    plt.figure(figsize=(8,8))\n",
    "   \n",
    "    plt.imshow(image)\n",
    "\n",
    "\n",
    "\n"
   ]
  },
  {
   "cell_type": "code",
   "execution_count": 27,
   "metadata": {
    "scrolled": true
   },
   "outputs": [
    {
     "data": {
      "application/vnd.jupyter.widget-view+json": {
       "model_id": "4105fda3361448fda3a17b011a39ff96",
       "version_major": 2,
       "version_minor": 0
      },
      "text/plain": [
       "interactive(children=(IntSlider(value=2, description='k', max=10, min=2), Output()), _dom_classes=('widget-int…"
      ]
     },
     "metadata": {},
     "output_type": "display_data"
    }
   ],
   "source": [
    "interact(segm,k=widgets.IntSlider(min=2,max=10, step=1, value=2));"
   ]
  },
  {
   "cell_type": "markdown",
   "metadata": {},
   "source": [
    "## <span style=\"color:#0000C0\">Step 2 </span> : <B>Add Noise to image</B>  \n"
   ]
  },
  {
   "cell_type": "code",
   "execution_count": 62,
   "metadata": {},
   "outputs": [
    {
     "data": {
      "text/plain": [
       "<Figure size 1296x1728 with 0 Axes>"
      ]
     },
     "metadata": {},
     "output_type": "display_data"
    },
    {
     "data": {
      "application/vnd.jupyter.widget-view+json": {
       "model_id": "9b96b564cc654f3f9c3e8c3b5032ed81",
       "version_major": 2,
       "version_minor": 0
      },
      "text/plain": [
       "interactive(children=(Dropdown(description='mode', options=('gaussian', 'localvar', 'poisson', 'salt', 'pepper…"
      ]
     },
     "metadata": {},
     "output_type": "display_data"
    }
   ],
   "source": [
    "import skimage.io\n",
    "import matplotlib.pyplot as plt\n",
    "img_path=\"eleph.jpg\"\n",
    "img = skimage.io.imread('boy.jpg')/255.0\n",
    "\n",
    "def plotnoise(mode):\n",
    "    img_path=\"eleph.jpg\"\n",
    "    img = skimage.io.imread('boy.jpg')/255.0\n",
    "   \n",
    "    if mode is not None:\n",
    "        gimg = skimage.util.random_noise(img, mode=mode)\n",
    "        plt.imshow(gimg)\n",
    "    else:\n",
    "        plt.imshow(img)\n",
    "    plt.title(mode)\n",
    "    plt.axis(\"off\")\n",
    "\n",
    "plt.figure(figsize=(18,24))\n",
    "r=4\n",
    "c=2\n",
    "interact(plotnoise,mode=[\"gaussian\",\"localvar\",\"poisson\",\"salt\",\"pepper\",\"s&p\",\"speckle\"])\n",
    "plt.show()"
   ]
  },
  {
   "cell_type": "markdown",
   "metadata": {},
   "source": [
    "## <span style=\"color:#0000C0\">Step 3 </span> : <B>Denoising</B>  \n"
   ]
  },
  {
   "cell_type": "code",
   "execution_count": 94,
   "metadata": {},
   "outputs": [
    {
     "data": {
      "application/vnd.jupyter.widget-view+json": {
       "model_id": "0f105e4e681349f2bcae8877d2ef661d",
       "version_major": 2,
       "version_minor": 0
      },
      "text/plain": [
       "Button(description='denoising image', style=ButtonStyle())"
      ]
     },
     "metadata": {},
     "output_type": "display_data"
    },
    {
     "data": {
      "application/vnd.jupyter.widget-view+json": {
       "model_id": "7cf5c17503404757b9146e6132c308aa",
       "version_major": 2,
       "version_minor": 0
      },
      "text/plain": [
       "Output()"
      ]
     },
     "metadata": {},
     "output_type": "display_data"
    }
   ],
   "source": [
    "import cv2 as cv\n",
    "from matplotlib import pyplot as plt\n",
    " \n",
    "def blur_demo(image):\n",
    "    blur = cv.blur(image,(3,3))\n",
    "    return blur\n",
    " \n",
    "def boxFilter_demo(image):\n",
    "    boxFilter = cv.boxFilter(image,-1,(3,3),normalize=True)\n",
    "    return boxFilter\n",
    " \n",
    "def boxFilterF_demo(image):\n",
    "    boxFilterF = cv.boxFilter(image,-1,(3,3),normalize=False)\n",
    "    return boxFilterF\n",
    " \n",
    "def Gaussian_demo(image):\n",
    "    gaussian = cv.GaussianBlur(image,(5,5),1)\n",
    "    return gaussian\n",
    " \n",
    "def medianBulr(image):\n",
    "    medianbulr = cv.medianBlur(image,5)\n",
    "    return medianbulr\n",
    "\n",
    "\n",
    "\n",
    "\n",
    "\n",
    "from IPython.display import display\n",
    "button = widgets.Button(description=\"denoising image\")\n",
    "output = widgets.Output()\n",
    "\n",
    "display(button, output)\n",
    "\n",
    "def on_button_clicked(b):\n",
    "    with output:\n",
    "        src = cv.imread(\"pepper.JPG\")\n",
    "        src = src[:,:,[2,1,0]]\n",
    "        img1 = blur_demo(src)\n",
    "        img2 = boxFilter_demo(src)\n",
    "        img3 = boxFilterF_demo(src)\n",
    "        img4 = Gaussian_demo(src)\n",
    "        img5 = medianBulr(src)\n",
    "        plt.figure(figsize=(30,20))\n",
    "\n",
    " \n",
    "        plt.subplot(2,3,1),plt.imshow(src)\n",
    "        plt.title(\"noised image\"),plt.xticks([]),plt.yticks([])\n",
    "        plt.subplot(232),plt.imshow(img1)\n",
    "        plt.title(\"blur_image\"),plt.xticks([]),plt.yticks([])\n",
    "        plt.subplot(233),plt.imshow(img2)\n",
    "        plt.title(\"boxFilter_image\"),plt.xticks([]),plt.yticks([])\n",
    "        plt.subplot(234),plt.imshow(img3)\n",
    "        plt.title(\"boxFilterF_image\"),plt.xticks([]),plt.yticks([])\n",
    "        plt.subplot(235),plt.imshow(img4)\n",
    "        plt.title(\"gaussian_image\"),plt.xticks([]),plt.yticks([])\n",
    "        plt.subplot(236),plt.imshow(img5)\n",
    "        plt.title(\"medianBulr_image\"),plt.xticks([]),plt.yticks([])\n",
    "        plt.show()\n",
    "       \n",
    "    \n",
    "button.on_click(on_button_clicked)\n",
    "\n"
   ]
  }
 ],
 "metadata": {
  "kernelspec": {
   "display_name": "Python 3",
   "language": "python",
   "name": "python3"
  },
  "language_info": {
   "codemirror_mode": {
    "name": "ipython",
    "version": 3
   },
   "file_extension": ".py",
   "mimetype": "text/x-python",
   "name": "python",
   "nbconvert_exporter": "python",
   "pygments_lexer": "ipython3",
   "version": "3.8.8"
  }
 },
 "nbformat": 4,
 "nbformat_minor": 4
}
