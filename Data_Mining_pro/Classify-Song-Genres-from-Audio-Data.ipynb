{
 "cells": [
  {
   "cell_type": "markdown",
   "id": "f421bcb6",
   "metadata": {
    "slideshow": {
     "slide_type": "slide"
    }
   },
   "source": [
    "<center><h1> <span style=\"color:red\">Classify Song Genres from Audio Data </span> </h1></center>\n",
    "\n",
    "## Réaliser par : \n",
    " <ul>\n",
    "<li><i> ibtissem BOUZIDI 3 DNI 2</i> </li>\n",
    "<li> <i> Sabrine HOIYA 3 DNI 2 </i> </li>\n",
    "    </ul>\n",
    "    <center><img src=\"https://s3.amazonaws.com/assets.datacamp.com/production/project_449/img/iphone_music.jpg\" alt=\"Project Image Record\" width=\"200px\"></center>"
   ]
  },
  {
   "cell_type": "markdown",
   "id": "616645e3",
   "metadata": {
    "slideshow": {
     "slide_type": "slide"
    }
   },
   "source": [
    "<center><h1> <span style=\"color:red\">Problématique</span> </h1></center>\n",
    "<center><img src=\"intro.png\"  width=\"1000px\"/></center>"
   ]
  },
  {
   "cell_type": "markdown",
   "id": "5fce69bf",
   "metadata": {
    "slideshow": {
     "slide_type": "slide"
    }
   },
   "source": [
    "<center><h1> <span style=\"color:red\">Solution</span> </h1></center>\n",
    "<center><img src=\"idee.png\"  width=\"1000px\"/></center>"
   ]
  },
  {
   "cell_type": "markdown",
   "id": "8532a246",
   "metadata": {
    "slideshow": {
     "slide_type": "slide"
    }
   },
   "source": [
    "**<div class=\"alert alert-success\"> <span style=\"color:#8A2BE2\">Objectif du projet </span> </div>**\n",
    "\n",
    "* Parcourir un ensemble de données compilées par un groupe de recherche connu sous le nom de The Echo Nest.  \n",
    "* Nettoyer nos données.\n",
    "* Effectuer une visualisation exploratoire des données\n",
    "* Appliquer des algorithmes d'apprentissage automatique, tels que les <span style=\"color:#8A2BE2\">arbres de décision  </span>et la <span style=\"color:#8A2BE2\">régression logistique </span> pour de classer les chansons en tant que <i> « Hip-Hop »</i> ou <i>« Rock »</i>"
   ]
  },
  {
   "cell_type": "markdown",
   "id": "e894fab2",
   "metadata": {
    "slideshow": {
     "slide_type": "slide"
    }
   },
   "source": [
    "<div class=\"alert alert-block alert-danger\"> <span style=\"color:#800000\">Partie 1 : Pré-Traitement des données</span> </div>\n"
   ]
  },
  {
   "cell_type": "markdown",
   "id": "42b307c0",
   "metadata": {
    "slideshow": {
     "slide_type": "slide"
    }
   },
   "source": [
    "### 1/ Préparer notre jeu de données:\n",
    "* Une chanson ne se limite pas à son titre, son artiste et le nombre d'écoutes. Nous avons un autre ensemble de données qui présente des caractéristiques musicales de chaque piste telles que la danse et l'acoustique sur une échelle de -1 à 1. qui sont dans des formats différents et dans notre cas nous avons travaillé avec CSV\n"
   ]
  },
  {
   "cell_type": "markdown",
   "id": "593c430e",
   "metadata": {
    "slideshow": {
     "slide_type": "subslide"
    }
   },
   "source": [
    "Commençons par créer deux pandas DataFrames à partir de ces fichiers que nous pouvons fusionner afin d'avoir des fonctionnalités et des étiquettes (souvent également appelées X et y) pour la classification ultérieure."
   ]
  },
  {
   "cell_type": "code",
   "execution_count": 2,
   "id": "f69b72f7",
   "metadata": {
    "slideshow": {
     "slide_type": "-"
    }
   },
   "outputs": [
    {
     "data": {
      "text/html": [
       "<div>\n",
       "<style scoped>\n",
       "    .dataframe tbody tr th:only-of-type {\n",
       "        vertical-align: middle;\n",
       "    }\n",
       "\n",
       "    .dataframe tbody tr th {\n",
       "        vertical-align: top;\n",
       "    }\n",
       "\n",
       "    .dataframe thead th {\n",
       "        text-align: right;\n",
       "    }\n",
       "</style>\n",
       "<table border=\"1\" class=\"dataframe\">\n",
       "  <thead>\n",
       "    <tr style=\"text-align: right;\">\n",
       "      <th></th>\n",
       "      <th>track_id</th>\n",
       "      <th>bit_rate</th>\n",
       "      <th>comments</th>\n",
       "      <th>composer</th>\n",
       "      <th>date_created</th>\n",
       "      <th>date_recorded</th>\n",
       "      <th>duration</th>\n",
       "      <th>favorites</th>\n",
       "      <th>genre_top</th>\n",
       "      <th>genres</th>\n",
       "      <th>...</th>\n",
       "      <th>information</th>\n",
       "      <th>interest</th>\n",
       "      <th>language_code</th>\n",
       "      <th>license</th>\n",
       "      <th>listens</th>\n",
       "      <th>lyricist</th>\n",
       "      <th>number</th>\n",
       "      <th>publisher</th>\n",
       "      <th>tags</th>\n",
       "      <th>title</th>\n",
       "    </tr>\n",
       "  </thead>\n",
       "  <tbody>\n",
       "    <tr>\n",
       "      <th>0</th>\n",
       "      <td>135</td>\n",
       "      <td>256000</td>\n",
       "      <td>1</td>\n",
       "      <td>NaN</td>\n",
       "      <td>2008-11-26 01:43:26</td>\n",
       "      <td>2008-11-26 00:00:00</td>\n",
       "      <td>837</td>\n",
       "      <td>0</td>\n",
       "      <td>Rock</td>\n",
       "      <td>[45, 58]</td>\n",
       "      <td>...</td>\n",
       "      <td>NaN</td>\n",
       "      <td>2484</td>\n",
       "      <td>en</td>\n",
       "      <td>Attribution-NonCommercial-ShareAlike 3.0 Inter...</td>\n",
       "      <td>1832</td>\n",
       "      <td>NaN</td>\n",
       "      <td>0</td>\n",
       "      <td>NaN</td>\n",
       "      <td>[]</td>\n",
       "      <td>Father's Day</td>\n",
       "    </tr>\n",
       "    <tr>\n",
       "      <th>1</th>\n",
       "      <td>136</td>\n",
       "      <td>256000</td>\n",
       "      <td>1</td>\n",
       "      <td>NaN</td>\n",
       "      <td>2008-11-26 01:43:35</td>\n",
       "      <td>2008-11-26 00:00:00</td>\n",
       "      <td>509</td>\n",
       "      <td>0</td>\n",
       "      <td>Rock</td>\n",
       "      <td>[45, 58]</td>\n",
       "      <td>...</td>\n",
       "      <td>NaN</td>\n",
       "      <td>1948</td>\n",
       "      <td>en</td>\n",
       "      <td>Attribution-NonCommercial-ShareAlike 3.0 Inter...</td>\n",
       "      <td>1498</td>\n",
       "      <td>NaN</td>\n",
       "      <td>0</td>\n",
       "      <td>NaN</td>\n",
       "      <td>[]</td>\n",
       "      <td>Peel Back The Mountain Sky</td>\n",
       "    </tr>\n",
       "  </tbody>\n",
       "</table>\n",
       "<p>2 rows × 21 columns</p>\n",
       "</div>"
      ],
      "text/plain": [
       "   track_id  bit_rate  comments composer         date_created  \\\n",
       "0       135    256000         1      NaN  2008-11-26 01:43:26   \n",
       "1       136    256000         1      NaN  2008-11-26 01:43:35   \n",
       "\n",
       "         date_recorded  duration  favorites genre_top    genres  ...  \\\n",
       "0  2008-11-26 00:00:00       837          0      Rock  [45, 58]  ...   \n",
       "1  2008-11-26 00:00:00       509          0      Rock  [45, 58]  ...   \n",
       "\n",
       "  information interest  language_code  \\\n",
       "0         NaN     2484             en   \n",
       "1         NaN     1948             en   \n",
       "\n",
       "                                             license listens  lyricist number  \\\n",
       "0  Attribution-NonCommercial-ShareAlike 3.0 Inter...    1832       NaN      0   \n",
       "1  Attribution-NonCommercial-ShareAlike 3.0 Inter...    1498       NaN      0   \n",
       "\n",
       "   publisher tags                       title  \n",
       "0        NaN   []                Father's Day  \n",
       "1        NaN   []  Peel Back The Mountain Sky  \n",
       "\n",
       "[2 rows x 21 columns]"
      ]
     },
     "execution_count": 2,
     "metadata": {},
     "output_type": "execute_result"
    }
   ],
   "source": [
    "import pandas as pd\n",
    "\n",
    "# Read in track metadata with genre labels\n",
    "tracks = pd.read_csv('datasets/fma-rock-vs-hiphop.csv')\n",
    "tracks.head(2)"
   ]
  },
  {
   "cell_type": "code",
   "execution_count": 3,
   "id": "e9f6b02f",
   "metadata": {
    "slideshow": {
     "slide_type": "subslide"
    }
   },
   "outputs": [
    {
     "data": {
      "text/html": [
       "<div>\n",
       "<style scoped>\n",
       "    .dataframe tbody tr th:only-of-type {\n",
       "        vertical-align: middle;\n",
       "    }\n",
       "\n",
       "    .dataframe tbody tr th {\n",
       "        vertical-align: top;\n",
       "    }\n",
       "\n",
       "    .dataframe thead th {\n",
       "        text-align: right;\n",
       "    }\n",
       "</style>\n",
       "<table border=\"1\" class=\"dataframe\">\n",
       "  <thead>\n",
       "    <tr style=\"text-align: right;\">\n",
       "      <th></th>\n",
       "      <th>track_id</th>\n",
       "      <th>acousticness</th>\n",
       "      <th>danceability</th>\n",
       "      <th>energy</th>\n",
       "      <th>instrumentalness</th>\n",
       "      <th>liveness</th>\n",
       "      <th>speechiness</th>\n",
       "      <th>tempo</th>\n",
       "      <th>valence</th>\n",
       "    </tr>\n",
       "  </thead>\n",
       "  <tbody>\n",
       "    <tr>\n",
       "      <th>0</th>\n",
       "      <td>2</td>\n",
       "      <td>0.416675</td>\n",
       "      <td>0.675894</td>\n",
       "      <td>0.634476</td>\n",
       "      <td>0.010628</td>\n",
       "      <td>0.177647</td>\n",
       "      <td>0.159310</td>\n",
       "      <td>165.922</td>\n",
       "      <td>0.576661</td>\n",
       "    </tr>\n",
       "    <tr>\n",
       "      <th>1</th>\n",
       "      <td>3</td>\n",
       "      <td>0.374408</td>\n",
       "      <td>0.528643</td>\n",
       "      <td>0.817461</td>\n",
       "      <td>0.001851</td>\n",
       "      <td>0.105880</td>\n",
       "      <td>0.461818</td>\n",
       "      <td>126.957</td>\n",
       "      <td>0.269240</td>\n",
       "    </tr>\n",
       "    <tr>\n",
       "      <th>2</th>\n",
       "      <td>5</td>\n",
       "      <td>0.043567</td>\n",
       "      <td>0.745566</td>\n",
       "      <td>0.701470</td>\n",
       "      <td>0.000697</td>\n",
       "      <td>0.373143</td>\n",
       "      <td>0.124595</td>\n",
       "      <td>100.260</td>\n",
       "      <td>0.621661</td>\n",
       "    </tr>\n",
       "    <tr>\n",
       "      <th>3</th>\n",
       "      <td>10</td>\n",
       "      <td>0.951670</td>\n",
       "      <td>0.658179</td>\n",
       "      <td>0.924525</td>\n",
       "      <td>0.965427</td>\n",
       "      <td>0.115474</td>\n",
       "      <td>0.032985</td>\n",
       "      <td>111.562</td>\n",
       "      <td>0.963590</td>\n",
       "    </tr>\n",
       "  </tbody>\n",
       "</table>\n",
       "</div>"
      ],
      "text/plain": [
       "   track_id  acousticness  danceability    energy  instrumentalness  liveness  \\\n",
       "0         2      0.416675      0.675894  0.634476          0.010628  0.177647   \n",
       "1         3      0.374408      0.528643  0.817461          0.001851  0.105880   \n",
       "2         5      0.043567      0.745566  0.701470          0.000697  0.373143   \n",
       "3        10      0.951670      0.658179  0.924525          0.965427  0.115474   \n",
       "\n",
       "   speechiness    tempo   valence  \n",
       "0     0.159310  165.922  0.576661  \n",
       "1     0.461818  126.957  0.269240  \n",
       "2     0.124595  100.260  0.621661  \n",
       "3     0.032985  111.562  0.963590  "
      ]
     },
     "execution_count": 3,
     "metadata": {},
     "output_type": "execute_result"
    }
   ],
   "source": [
    "# Read in track metrics with the features\n",
    "echonest_metrics = pd.read_json('datasets/echonest-metrics.json',precise_float = True)\n",
    "echonest_metrics.head(4)"
   ]
  },
  {
   "cell_type": "code",
   "execution_count": 4,
   "id": "dfe00093",
   "metadata": {
    "slideshow": {
     "slide_type": "subslide"
    }
   },
   "outputs": [
    {
     "data": {
      "text/html": [
       "<div>\n",
       "<style scoped>\n",
       "    .dataframe tbody tr th:only-of-type {\n",
       "        vertical-align: middle;\n",
       "    }\n",
       "\n",
       "    .dataframe tbody tr th {\n",
       "        vertical-align: top;\n",
       "    }\n",
       "\n",
       "    .dataframe thead th {\n",
       "        text-align: right;\n",
       "    }\n",
       "</style>\n",
       "<table border=\"1\" class=\"dataframe\">\n",
       "  <thead>\n",
       "    <tr style=\"text-align: right;\">\n",
       "      <th></th>\n",
       "      <th>track_id</th>\n",
       "      <th>genre_top</th>\n",
       "      <th>acousticness</th>\n",
       "      <th>danceability</th>\n",
       "      <th>energy</th>\n",
       "      <th>instrumentalness</th>\n",
       "      <th>liveness</th>\n",
       "      <th>speechiness</th>\n",
       "      <th>tempo</th>\n",
       "      <th>valence</th>\n",
       "    </tr>\n",
       "  </thead>\n",
       "  <tbody>\n",
       "    <tr>\n",
       "      <th>0</th>\n",
       "      <td>153</td>\n",
       "      <td>Rock</td>\n",
       "      <td>0.988306</td>\n",
       "      <td>0.255661</td>\n",
       "      <td>0.979774</td>\n",
       "      <td>0.973006</td>\n",
       "      <td>0.121342</td>\n",
       "      <td>0.051740</td>\n",
       "      <td>90.241</td>\n",
       "      <td>0.034018</td>\n",
       "    </tr>\n",
       "    <tr>\n",
       "      <th>1</th>\n",
       "      <td>154</td>\n",
       "      <td>Rock</td>\n",
       "      <td>0.970135</td>\n",
       "      <td>0.352946</td>\n",
       "      <td>0.023852</td>\n",
       "      <td>0.957113</td>\n",
       "      <td>0.113261</td>\n",
       "      <td>0.032177</td>\n",
       "      <td>53.758</td>\n",
       "      <td>0.035632</td>\n",
       "    </tr>\n",
       "  </tbody>\n",
       "</table>\n",
       "</div>"
      ],
      "text/plain": [
       "   track_id genre_top  acousticness  danceability    energy  instrumentalness  \\\n",
       "0       153      Rock      0.988306      0.255661  0.979774          0.973006   \n",
       "1       154      Rock      0.970135      0.352946  0.023852          0.957113   \n",
       "\n",
       "   liveness  speechiness   tempo   valence  \n",
       "0  0.121342     0.051740  90.241  0.034018  \n",
       "1  0.113261     0.032177  53.758  0.035632  "
      ]
     },
     "execution_count": 4,
     "metadata": {},
     "output_type": "execute_result"
    }
   ],
   "source": [
    "# Merge the track_id and genre_top columns of tracks and echonest_metrics on track_id values\n",
    "echo_tracks = pd.merge(left = tracks[['track_id', 'genre_top']], right=echonest_metrics, on='track_id')\n",
    "echo_tracks.head(2)"
   ]
  },
  {
   "cell_type": "code",
   "execution_count": 5,
   "id": "80f3d27b",
   "metadata": {},
   "outputs": [
    {
     "name": "stdout",
     "output_type": "stream",
     "text": [
      "<class 'pandas.core.frame.DataFrame'>\n",
      "Int64Index: 4802 entries, 0 to 4801\n",
      "Data columns (total 10 columns):\n",
      " #   Column            Non-Null Count  Dtype  \n",
      "---  ------            --------------  -----  \n",
      " 0   track_id          4802 non-null   int64  \n",
      " 1   genre_top         4802 non-null   object \n",
      " 2   acousticness      4802 non-null   float64\n",
      " 3   danceability      4802 non-null   float64\n",
      " 4   energy            4802 non-null   float64\n",
      " 5   instrumentalness  4802 non-null   float64\n",
      " 6   liveness          4802 non-null   float64\n",
      " 7   speechiness       4802 non-null   float64\n",
      " 8   tempo             4802 non-null   float64\n",
      " 9   valence           4802 non-null   float64\n",
      "dtypes: float64(8), int64(1), object(1)\n",
      "memory usage: 412.7+ KB\n"
     ]
    }
   ],
   "source": [
    "# Inspect the resultant dataframe\n",
    "echo_tracks.info()"
   ]
  },
  {
   "cell_type": "markdown",
   "id": "26978319",
   "metadata": {
    "slideshow": {
     "slide_type": "slide"
    }
   },
   "source": [
    "## 2/ Relations par paires entre variables continues:\n",
    "Il faut éviter d'utiliser des variables qui ont de fortes corrélations les unes avec les autres, ainsi la redondance- pour plusieurs raisons:\n",
    "<div class=\"alert alert-success\"> <span style=\"color:#707000\">\n",
    " <ul>\n",
    "<li><i> Pour garder le modèle simple et améliorer l'interprétabilité (surapprentissage).</i> </li>\n",
    "<li> <i>Lorsque nos Datasets sont très volumineux, l'utilisation de moins de fonctionnalités peut considérablement accélérer notre temps de calcul.</i> </li>\n",
    "    </ul>\n",
    " </span></div>\n"
   ]
  },
  {
   "cell_type": "code",
   "execution_count": 6,
   "id": "d52459d6",
   "metadata": {
    "slideshow": {
     "slide_type": "subslide"
    }
   },
   "outputs": [
    {
     "data": {
      "text/html": [
       "<style  type=\"text/css\" >\n",
       "#T_25812_row0_col0,#T_25812_row1_col1,#T_25812_row2_col2,#T_25812_row3_col3,#T_25812_row4_col4,#T_25812_row5_col5,#T_25812_row6_col6,#T_25812_row7_col7,#T_25812_row8_col8{\n",
       "            background-color:  #023858;\n",
       "            color:  #f1f1f1;\n",
       "        }#T_25812_row0_col1,#T_25812_row1_col0,#T_25812_row1_col3,#T_25812_row2_col5,#T_25812_row2_col7,#T_25812_row4_col2,#T_25812_row4_col6,#T_25812_row4_col8,#T_25812_row6_col4{\n",
       "            background-color:  #fff7fb;\n",
       "            color:  #000000;\n",
       "        }#T_25812_row0_col2{\n",
       "            background-color:  #d2d2e7;\n",
       "            color:  #000000;\n",
       "        }#T_25812_row0_col3{\n",
       "            background-color:  #b5c4df;\n",
       "            color:  #000000;\n",
       "        }#T_25812_row0_col4{\n",
       "            background-color:  #f5eef6;\n",
       "            color:  #000000;\n",
       "        }#T_25812_row0_col5{\n",
       "            background-color:  #e9e5f1;\n",
       "            color:  #000000;\n",
       "        }#T_25812_row0_col6,#T_25812_row8_col3{\n",
       "            background-color:  #d1d2e6;\n",
       "            color:  #000000;\n",
       "        }#T_25812_row0_col7,#T_25812_row1_col7{\n",
       "            background-color:  #e1dfed;\n",
       "            color:  #000000;\n",
       "        }#T_25812_row0_col8,#T_25812_row3_col6{\n",
       "            background-color:  #dedcec;\n",
       "            color:  #000000;\n",
       "        }#T_25812_row1_col2{\n",
       "            background-color:  #e0dded;\n",
       "            color:  #000000;\n",
       "        }#T_25812_row1_col4,#T_25812_row4_col1{\n",
       "            background-color:  #97b7d7;\n",
       "            color:  #000000;\n",
       "        }#T_25812_row1_col5,#T_25812_row2_col4{\n",
       "            background-color:  #f3edf5;\n",
       "            color:  #000000;\n",
       "        }#T_25812_row1_col6,#T_25812_row6_col1{\n",
       "            background-color:  #b8c6e0;\n",
       "            color:  #000000;\n",
       "        }#T_25812_row1_col8{\n",
       "            background-color:  #e2dfee;\n",
       "            color:  #000000;\n",
       "        }#T_25812_row2_col0,#T_25812_row5_col0,#T_25812_row5_col3{\n",
       "            background-color:  #bdc8e1;\n",
       "            color:  #000000;\n",
       "        }#T_25812_row2_col1,#T_25812_row6_col0,#T_25812_row7_col0,#T_25812_row7_col1{\n",
       "            background-color:  #d0d1e6;\n",
       "            color:  #000000;\n",
       "        }#T_25812_row2_col3{\n",
       "            background-color:  #fbf3f9;\n",
       "            color:  #000000;\n",
       "        }#T_25812_row2_col6{\n",
       "            background-color:  #80aed2;\n",
       "            color:  #000000;\n",
       "        }#T_25812_row2_col8{\n",
       "            background-color:  #529bc7;\n",
       "            color:  #000000;\n",
       "        }#T_25812_row3_col0,#T_25812_row7_col3{\n",
       "            background-color:  #a7bddb;\n",
       "            color:  #000000;\n",
       "        }#T_25812_row3_col1{\n",
       "            background-color:  #f5eff6;\n",
       "            color:  #000000;\n",
       "        }#T_25812_row3_col2,#T_25812_row7_col2{\n",
       "            background-color:  #fef6fa;\n",
       "            color:  #000000;\n",
       "        }#T_25812_row3_col4{\n",
       "            background-color:  #c4cbe3;\n",
       "            color:  #000000;\n",
       "        }#T_25812_row3_col5,#T_25812_row5_col7{\n",
       "            background-color:  #dcdaeb;\n",
       "            color:  #000000;\n",
       "        }#T_25812_row3_col7{\n",
       "            background-color:  #adc1dd;\n",
       "            color:  #000000;\n",
       "        }#T_25812_row3_col8,#T_25812_row4_col7{\n",
       "            background-color:  #d9d8ea;\n",
       "            color:  #000000;\n",
       "        }#T_25812_row4_col0{\n",
       "            background-color:  #f4eef6;\n",
       "            color:  #000000;\n",
       "        }#T_25812_row4_col3{\n",
       "            background-color:  #d2d3e7;\n",
       "            color:  #000000;\n",
       "        }#T_25812_row4_col5{\n",
       "            background-color:  #fdf5fa;\n",
       "            color:  #000000;\n",
       "        }#T_25812_row5_col1{\n",
       "            background-color:  #ced0e6;\n",
       "            color:  #000000;\n",
       "        }#T_25812_row5_col2{\n",
       "            background-color:  #ede8f3;\n",
       "            color:  #000000;\n",
       "        }#T_25812_row5_col4,#T_25812_row6_col7{\n",
       "            background-color:  #dbdaeb;\n",
       "            color:  #000000;\n",
       "        }#T_25812_row5_col6{\n",
       "            background-color:  #c0c9e2;\n",
       "            color:  #000000;\n",
       "        }#T_25812_row5_col8{\n",
       "            background-color:  #e8e4f0;\n",
       "            color:  #000000;\n",
       "        }#T_25812_row6_col2{\n",
       "            background-color:  #93b5d6;\n",
       "            color:  #000000;\n",
       "        }#T_25812_row6_col3,#T_25812_row6_col5{\n",
       "            background-color:  #eae6f1;\n",
       "            color:  #000000;\n",
       "        }#T_25812_row6_col8{\n",
       "            background-color:  #bfc9e1;\n",
       "            color:  #000000;\n",
       "        }#T_25812_row7_col4{\n",
       "            background-color:  #c5cce3;\n",
       "            color:  #000000;\n",
       "        }#T_25812_row7_col5{\n",
       "            background-color:  #f0eaf4;\n",
       "            color:  #000000;\n",
       "        }#T_25812_row7_col6{\n",
       "            background-color:  #c8cde4;\n",
       "            color:  #000000;\n",
       "        }#T_25812_row7_col8{\n",
       "            background-color:  #d6d6e9;\n",
       "            color:  #000000;\n",
       "        }#T_25812_row8_col0{\n",
       "            background-color:  #c6cce3;\n",
       "            color:  #000000;\n",
       "        }#T_25812_row8_col1{\n",
       "            background-color:  #cdd0e5;\n",
       "            color:  #000000;\n",
       "        }#T_25812_row8_col2{\n",
       "            background-color:  #4c99c5;\n",
       "            color:  #000000;\n",
       "        }#T_25812_row8_col4{\n",
       "            background-color:  #efe9f3;\n",
       "            color:  #000000;\n",
       "        }#T_25812_row8_col5{\n",
       "            background-color:  #f7f0f7;\n",
       "            color:  #000000;\n",
       "        }#T_25812_row8_col6{\n",
       "            background-color:  #a5bddb;\n",
       "            color:  #000000;\n",
       "        }#T_25812_row8_col7{\n",
       "            background-color:  #d3d4e7;\n",
       "            color:  #000000;\n",
       "        }</style><table id=\"T_25812_\" ><thead>    <tr>        <th class=\"blank level0\" ></th>        <th class=\"col_heading level0 col0\" >track_id</th>        <th class=\"col_heading level0 col1\" >acousticness</th>        <th class=\"col_heading level0 col2\" >danceability</th>        <th class=\"col_heading level0 col3\" >energy</th>        <th class=\"col_heading level0 col4\" >instrumentalness</th>        <th class=\"col_heading level0 col5\" >liveness</th>        <th class=\"col_heading level0 col6\" >speechiness</th>        <th class=\"col_heading level0 col7\" >tempo</th>        <th class=\"col_heading level0 col8\" >valence</th>    </tr></thead><tbody>\n",
       "                <tr>\n",
       "                        <th id=\"T_25812_level0_row0\" class=\"row_heading level0 row0\" >track_id</th>\n",
       "                        <td id=\"T_25812_row0_col0\" class=\"data row0 col0\" >1.000000</td>\n",
       "                        <td id=\"T_25812_row0_col1\" class=\"data row0 col1\" >-0.372282</td>\n",
       "                        <td id=\"T_25812_row0_col2\" class=\"data row0 col2\" >0.049454</td>\n",
       "                        <td id=\"T_25812_row0_col3\" class=\"data row0 col3\" >0.140703</td>\n",
       "                        <td id=\"T_25812_row0_col4\" class=\"data row0 col4\" >-0.275623</td>\n",
       "                        <td id=\"T_25812_row0_col5\" class=\"data row0 col5\" >0.048231</td>\n",
       "                        <td id=\"T_25812_row0_col6\" class=\"data row0 col6\" >-0.026995</td>\n",
       "                        <td id=\"T_25812_row0_col7\" class=\"data row0 col7\" >-0.025392</td>\n",
       "                        <td id=\"T_25812_row0_col8\" class=\"data row0 col8\" >0.010070</td>\n",
       "            </tr>\n",
       "            <tr>\n",
       "                        <th id=\"T_25812_level0_row1\" class=\"row_heading level0 row1\" >acousticness</th>\n",
       "                        <td id=\"T_25812_row1_col0\" class=\"data row1 col0\" >-0.372282</td>\n",
       "                        <td id=\"T_25812_row1_col1\" class=\"data row1 col1\" >1.000000</td>\n",
       "                        <td id=\"T_25812_row1_col2\" class=\"data row1 col2\" >-0.028954</td>\n",
       "                        <td id=\"T_25812_row1_col3\" class=\"data row1 col3\" >-0.281619</td>\n",
       "                        <td id=\"T_25812_row1_col4\" class=\"data row1 col4\" >0.194780</td>\n",
       "                        <td id=\"T_25812_row1_col5\" class=\"data row1 col5\" >-0.019991</td>\n",
       "                        <td id=\"T_25812_row1_col6\" class=\"data row1 col6\" >0.072204</td>\n",
       "                        <td id=\"T_25812_row1_col7\" class=\"data row1 col7\" >-0.026310</td>\n",
       "                        <td id=\"T_25812_row1_col8\" class=\"data row1 col8\" >-0.013841</td>\n",
       "            </tr>\n",
       "            <tr>\n",
       "                        <th id=\"T_25812_level0_row2\" class=\"row_heading level0 row2\" >danceability</th>\n",
       "                        <td id=\"T_25812_row2_col0\" class=\"data row2 col0\" >0.049454</td>\n",
       "                        <td id=\"T_25812_row2_col1\" class=\"data row2 col1\" >-0.028954</td>\n",
       "                        <td id=\"T_25812_row2_col2\" class=\"data row2 col2\" >1.000000</td>\n",
       "                        <td id=\"T_25812_row2_col3\" class=\"data row2 col3\" >-0.242032</td>\n",
       "                        <td id=\"T_25812_row2_col4\" class=\"data row2 col4\" >-0.255217</td>\n",
       "                        <td id=\"T_25812_row2_col5\" class=\"data row2 col5\" >-0.106584</td>\n",
       "                        <td id=\"T_25812_row2_col6\" class=\"data row2 col6\" >0.276206</td>\n",
       "                        <td id=\"T_25812_row2_col7\" class=\"data row2 col7\" >-0.242089</td>\n",
       "                        <td id=\"T_25812_row2_col8\" class=\"data row2 col8\" >0.473165</td>\n",
       "            </tr>\n",
       "            <tr>\n",
       "                        <th id=\"T_25812_level0_row3\" class=\"row_heading level0 row3\" >energy</th>\n",
       "                        <td id=\"T_25812_row3_col0\" class=\"data row3 col0\" >0.140703</td>\n",
       "                        <td id=\"T_25812_row3_col1\" class=\"data row3 col1\" >-0.281619</td>\n",
       "                        <td id=\"T_25812_row3_col2\" class=\"data row3 col2\" >-0.242032</td>\n",
       "                        <td id=\"T_25812_row3_col3\" class=\"data row3 col3\" >1.000000</td>\n",
       "                        <td id=\"T_25812_row3_col4\" class=\"data row3 col4\" >0.028238</td>\n",
       "                        <td id=\"T_25812_row3_col5\" class=\"data row3 col5\" >0.113331</td>\n",
       "                        <td id=\"T_25812_row3_col6\" class=\"data row3 col6\" >-0.109983</td>\n",
       "                        <td id=\"T_25812_row3_col7\" class=\"data row3 col7\" >0.195227</td>\n",
       "                        <td id=\"T_25812_row3_col8\" class=\"data row3 col8\" >0.038603</td>\n",
       "            </tr>\n",
       "            <tr>\n",
       "                        <th id=\"T_25812_level0_row4\" class=\"row_heading level0 row4\" >instrumentalness</th>\n",
       "                        <td id=\"T_25812_row4_col0\" class=\"data row4 col0\" >-0.275623</td>\n",
       "                        <td id=\"T_25812_row4_col1\" class=\"data row4 col1\" >0.194780</td>\n",
       "                        <td id=\"T_25812_row4_col2\" class=\"data row4 col2\" >-0.255217</td>\n",
       "                        <td id=\"T_25812_row4_col3\" class=\"data row4 col3\" >0.028238</td>\n",
       "                        <td id=\"T_25812_row4_col4\" class=\"data row4 col4\" >1.000000</td>\n",
       "                        <td id=\"T_25812_row4_col5\" class=\"data row4 col5\" >-0.091022</td>\n",
       "                        <td id=\"T_25812_row4_col6\" class=\"data row4 col6\" >-0.366762</td>\n",
       "                        <td id=\"T_25812_row4_col7\" class=\"data row4 col7\" >0.022215</td>\n",
       "                        <td id=\"T_25812_row4_col8\" class=\"data row4 col8\" >-0.219967</td>\n",
       "            </tr>\n",
       "            <tr>\n",
       "                        <th id=\"T_25812_level0_row5\" class=\"row_heading level0 row5\" >liveness</th>\n",
       "                        <td id=\"T_25812_row5_col0\" class=\"data row5 col0\" >0.048231</td>\n",
       "                        <td id=\"T_25812_row5_col1\" class=\"data row5 col1\" >-0.019991</td>\n",
       "                        <td id=\"T_25812_row5_col2\" class=\"data row5 col2\" >-0.106584</td>\n",
       "                        <td id=\"T_25812_row5_col3\" class=\"data row5 col3\" >0.113331</td>\n",
       "                        <td id=\"T_25812_row5_col4\" class=\"data row5 col4\" >-0.091022</td>\n",
       "                        <td id=\"T_25812_row5_col5\" class=\"data row5 col5\" >1.000000</td>\n",
       "                        <td id=\"T_25812_row5_col6\" class=\"data row5 col6\" >0.041173</td>\n",
       "                        <td id=\"T_25812_row5_col7\" class=\"data row5 col7\" >0.002732</td>\n",
       "                        <td id=\"T_25812_row5_col8\" class=\"data row5 col8\" >-0.045093</td>\n",
       "            </tr>\n",
       "            <tr>\n",
       "                        <th id=\"T_25812_level0_row6\" class=\"row_heading level0 row6\" >speechiness</th>\n",
       "                        <td id=\"T_25812_row6_col0\" class=\"data row6 col0\" >-0.026995</td>\n",
       "                        <td id=\"T_25812_row6_col1\" class=\"data row6 col1\" >0.072204</td>\n",
       "                        <td id=\"T_25812_row6_col2\" class=\"data row6 col2\" >0.276206</td>\n",
       "                        <td id=\"T_25812_row6_col3\" class=\"data row6 col3\" >-0.109983</td>\n",
       "                        <td id=\"T_25812_row6_col4\" class=\"data row6 col4\" >-0.366762</td>\n",
       "                        <td id=\"T_25812_row6_col5\" class=\"data row6 col5\" >0.041173</td>\n",
       "                        <td id=\"T_25812_row6_col6\" class=\"data row6 col6\" >1.000000</td>\n",
       "                        <td id=\"T_25812_row6_col7\" class=\"data row6 col7\" >0.008241</td>\n",
       "                        <td id=\"T_25812_row6_col8\" class=\"data row6 col8\" >0.149894</td>\n",
       "            </tr>\n",
       "            <tr>\n",
       "                        <th id=\"T_25812_level0_row7\" class=\"row_heading level0 row7\" >tempo</th>\n",
       "                        <td id=\"T_25812_row7_col0\" class=\"data row7 col0\" >-0.025392</td>\n",
       "                        <td id=\"T_25812_row7_col1\" class=\"data row7 col1\" >-0.026310</td>\n",
       "                        <td id=\"T_25812_row7_col2\" class=\"data row7 col2\" >-0.242089</td>\n",
       "                        <td id=\"T_25812_row7_col3\" class=\"data row7 col3\" >0.195227</td>\n",
       "                        <td id=\"T_25812_row7_col4\" class=\"data row7 col4\" >0.022215</td>\n",
       "                        <td id=\"T_25812_row7_col5\" class=\"data row7 col5\" >0.002732</td>\n",
       "                        <td id=\"T_25812_row7_col6\" class=\"data row7 col6\" >0.008241</td>\n",
       "                        <td id=\"T_25812_row7_col7\" class=\"data row7 col7\" >1.000000</td>\n",
       "                        <td id=\"T_25812_row7_col8\" class=\"data row7 col8\" >0.052221</td>\n",
       "            </tr>\n",
       "            <tr>\n",
       "                        <th id=\"T_25812_level0_row8\" class=\"row_heading level0 row8\" >valence</th>\n",
       "                        <td id=\"T_25812_row8_col0\" class=\"data row8 col0\" >0.010070</td>\n",
       "                        <td id=\"T_25812_row8_col1\" class=\"data row8 col1\" >-0.013841</td>\n",
       "                        <td id=\"T_25812_row8_col2\" class=\"data row8 col2\" >0.473165</td>\n",
       "                        <td id=\"T_25812_row8_col3\" class=\"data row8 col3\" >0.038603</td>\n",
       "                        <td id=\"T_25812_row8_col4\" class=\"data row8 col4\" >-0.219967</td>\n",
       "                        <td id=\"T_25812_row8_col5\" class=\"data row8 col5\" >-0.045093</td>\n",
       "                        <td id=\"T_25812_row8_col6\" class=\"data row8 col6\" >0.149894</td>\n",
       "                        <td id=\"T_25812_row8_col7\" class=\"data row8 col7\" >0.052221</td>\n",
       "                        <td id=\"T_25812_row8_col8\" class=\"data row8 col8\" >1.000000</td>\n",
       "            </tr>\n",
       "    </tbody></table>"
      ],
      "text/plain": [
       "<pandas.io.formats.style.Styler at 0x2b036e34d60>"
      ]
     },
     "execution_count": 6,
     "metadata": {},
     "output_type": "execute_result"
    }
   ],
   "source": [
    "# Create a correlation matrix\n",
    "corr_metrics = echo_tracks.corr()\n",
    "corr_metrics.style.background_gradient()"
   ]
  },
  {
   "cell_type": "markdown",
   "id": "d0ee18d0",
   "metadata": {},
   "source": [
    "<span style=\"color:orange\"><b>Ici, nous pouvons voir une corrélation intéressante entre danceability et valence, mais elle n'est pas assez forte.</b></span>"
   ]
  },
  {
   "cell_type": "markdown",
   "id": "a6b5bdbe",
   "metadata": {
    "slideshow": {
     "slide_type": "slide"
    }
   },
   "source": [
    "## 3/ Normaliser les données\n",
    "&#9888; &#x26A0; Simplifier nos modèles et les fonctionnalités nécessaire pour obtenir le meilleur résultat.<br>\n",
    "&#x2611; Utiliser une approche pour réduire le nombre de caractéristiques appelée Analyse en Composantes Principales (ACP) est une méthode de <code>dimensionality reduction</code>."
   ]
  },
  {
   "cell_type": "markdown",
   "id": "1dea9352",
   "metadata": {
    "slideshow": {
     "slide_type": "subslide"
    }
   },
   "source": [
    "* <span style=\"color:red\"><b>Probleme:</b></span><br>\n",
    "<i>PCA utilise la variance absolue d'une caractéristique pour faire pivoter les données, une caractéristique avec une plage de valeurs plus large dominera et biaisera l'algorithme par rapport aux autres caractéristiques</i> <br>\n",
    "* <span style=\"color:#0000C0\"><b>Solution:</b></span><br>\n",
    "<i>Il existe plusieurs méthodes, mais une méthode courante consiste à utiliser la standardisation , de sorte que toutes les caractéristiques aient une moyenne = 0 et un écart type = 1. </i>"
   ]
  },
  {
   "cell_type": "code",
   "execution_count": 7,
   "id": "034e5454",
   "metadata": {
    "slideshow": {
     "slide_type": "subslide"
    }
   },
   "outputs": [
    {
     "data": {
      "text/plain": [
       "array([[ 1.36170559, -0.98589622,  1.45332318, ..., -0.36415677,\n",
       "        -1.07200261, -1.57310227],\n",
       "       [ 1.31234237, -0.45568108, -2.46398518, ..., -0.49822414,\n",
       "        -2.14506572, -1.5670495 ],\n",
       "       [ 1.34364478, -1.60400213,  1.17609079, ..., -0.11890299,\n",
       "        -1.022854  , -1.57194929],\n",
       "       ...,\n",
       "       [-1.29470431,  1.17682795,  0.13265633, ...,  0.85182206,\n",
       "        -0.93541008, -0.07941825],\n",
       "       [-1.13869115, -0.02253433,  0.57117905, ...,  1.40951543,\n",
       "         1.31301348,  0.47513794],\n",
       "       [-0.90611434,  1.10148973,  0.56322452, ...,  1.36030881,\n",
       "        -1.43669053,  0.76217464]])"
      ]
     },
     "execution_count": 7,
     "metadata": {},
     "output_type": "execute_result"
    }
   ],
   "source": [
    "# Define our features \n",
    "features = echo_tracks.drop(['genre_top', 'track_id'], axis = 1)\n",
    "# Define our labels\n",
    "labels = echo_tracks['genre_top']\n",
    "# Import the StandardScaler\n",
    "from sklearn.preprocessing import StandardScaler\n",
    "# Scale the features and set the values to a new variable\n",
    "scaler = StandardScaler()\n",
    "scaled_train_features = scaler.fit_transform(features)\n",
    "scaler.fit_transform(features)"
   ]
  },
  {
   "cell_type": "markdown",
   "id": "e9d044f6",
   "metadata": {
    "slideshow": {
     "slide_type": "slide"
    }
   },
   "source": [
    "## 4/ Analyse en Composantes Principales sur nos données à l'échelle: \n",
    "Nous avons prétraité nos données, nous sommes prêts à utiliser la PCA pour déterminer de combien nous pouvons réduire la dimensionnalité de nos données. On utilise <strong>scree-plots</strong> et <strong>cumulative explained ratio plots</strong> "
   ]
  },
  {
   "cell_type": "markdown",
   "id": "c6239e46",
   "metadata": {
    "slideshow": {
     "slide_type": "slide"
    }
   },
   "source": [
    "Les <strong>scree-plots</strong> affichent le nombre de composants par rapport à la variance expliquée par chaque composant, triés par ordre décroissant de variance. \n",
    "* Les scree-plots nous aident à mieux comprendre quels composants expliquent une quantité suffisante de variance dans nos données. "
   ]
  },
  {
   "cell_type": "code",
   "execution_count": 8,
   "id": "0bb95c04",
   "metadata": {
    "slideshow": {
     "slide_type": "subslide"
    }
   },
   "outputs": [
    {
     "data": {
      "text/plain": [
       "array([0.24297674, 0.18044316, 0.13650309, 0.12994089, 0.11056248,\n",
       "       0.08302245, 0.06923783, 0.04731336])"
      ]
     },
     "execution_count": 8,
     "metadata": {},
     "output_type": "execute_result"
    }
   ],
   "source": [
    "%matplotlib inline\n",
    "import matplotlib.pyplot as plt\n",
    "from sklearn.decomposition import PCA\n",
    "# Obtenez nos rapport de variance expliqués de PCA en utilisant toutes les features\n",
    "pca = PCA()\n",
    "pca.fit(scaled_train_features)\n",
    "exp_variance = pca.explained_variance_ratio_\n",
    "#exp_variance"
   ]
  },
  {
   "cell_type": "code",
   "execution_count": 9,
   "id": "8d974272",
   "metadata": {
    "slideshow": {
     "slide_type": "subslide"
    }
   },
   "outputs": [
    {
     "data": {
      "image/png": "[encoded data removed]",
      "text/plain": [
       "<Figure size 432x288 with 1 Axes>"
      ]
     },
     "metadata": {
      "needs_background": "light"
     },
     "output_type": "display_data"
    }
   ],
   "source": [
    "# plot the explained variance using a barplot\n",
    "fig, ax = plt.subplots()\n",
    "ax.bar(range(pca.n_components_),exp_variance)\n",
    "ax.set_xlabel('Principal Component #')\n",
    "plt.show()"
   ]
  },
  {
   "cell_type": "markdown",
   "id": "02760a91",
   "metadata": {
    "slideshow": {
     "slide_type": "slide"
    }
   },
   "source": [
    "## 5/ Visualisation plus poussée de l'ACP:\n",
    "<p>😣 Malheureusement, il ne semble pas y avoir de coude clair dans ce tracé, ce qui signifie qu'il n'est pas simple de trouver le nombre de dimensions intrinsèques à l'aide de cette méthode. Au lieu de cela, nous pouvons examiner le graphique de la variance expliquée cumulative pour déterminer combien de caractéristiques sont nécessairesdisons, environ 90 % de la variance.</p>"
   ]
  },
  {
   "cell_type": "code",
   "execution_count": 10,
   "id": "ca0aaab6",
   "metadata": {
    "slideshow": {
     "slide_type": "subslide"
    }
   },
   "outputs": [
    {
     "data": {
      "text/plain": [
       "array([0.24297674, 0.4234199 , 0.55992299, 0.68986388, 0.80042636,\n",
       "       0.88344881, 0.95268664, 1.        ])"
      ]
     },
     "execution_count": 10,
     "metadata": {},
     "output_type": "execute_result"
    }
   ],
   "source": [
    "# Import numpy\n",
    "import numpy as np\n",
    "\n",
    "# Calculate the cumulative explained variance\n",
    "cum_exp_variance = np.cumsum(exp_variance)\n",
    "cum_exp_variance"
   ]
  },
  {
   "cell_type": "code",
   "execution_count": 11,
   "id": "a987b6e5",
   "metadata": {},
   "outputs": [
    {
     "data": {
      "image/png": "[encoded data removed]",
      "text/plain": [
       "<Figure size 432x288 with 1 Axes>"
      ]
     },
     "metadata": {
      "needs_background": "light"
     },
     "output_type": "display_data"
    }
   ],
   "source": [
    "# Plot the cumulative explained variance and draw a dashed line at 0.90.\n",
    "fig, ax = plt.subplots()\n",
    "ax.plot(range(8),cum_exp_variance).y\n",
    " \n",
    "ax.axhline(y=0.9, linestyle='--')\n",
    "plt.show()"
   ]
  },
  {
   "cell_type": "code",
   "execution_count": 12,
   "id": "8a3fe48a",
   "metadata": {
    "slideshow": {
     "slide_type": "subslide"
    }
   },
   "outputs": [],
   "source": [
    "# choose the n_components where about 85% of our variance can be explained\n",
    "n_components = 7\n",
    "\n",
    "# Perform PCA with the chosen number of components and project data onto components\n",
    "pca = PCA(n_components, random_state=10)\n",
    "pca.fit(scaled_train_features)\n",
    "pca_projection = pca.transform(scaled_train_features)"
   ]
  },
  {
   "cell_type": "code",
   "execution_count": 13,
   "id": "cfc44fcd",
   "metadata": {},
   "outputs": [
    {
     "data": {
      "text/plain": [
       "(4802, 8)"
      ]
     },
     "execution_count": 13,
     "metadata": {},
     "output_type": "execute_result"
    }
   ],
   "source": [
    "scaled_train_features.shape"
   ]
  },
  {
   "cell_type": "code",
   "execution_count": 14,
   "id": "c0a691a1",
   "metadata": {},
   "outputs": [
    {
     "data": {
      "text/plain": [
       "(4802, 7)"
      ]
     },
     "execution_count": 14,
     "metadata": {},
     "output_type": "execute_result"
    }
   ],
   "source": [
    "pca_projection.shape"
   ]
  },
  {
   "cell_type": "markdown",
   "id": "fe3f2c0b",
   "metadata": {},
   "source": [
    "> Nous pouvons maintenant utiliser PCA de dimension inférieure des données pour classer les chansons en genres."
   ]
  },
  {
   "cell_type": "markdown",
   "id": "6057cc58",
   "metadata": {
    "slideshow": {
     "slide_type": "slide"
    }
   },
   "source": [
    "## 6/ Arbre de décision:\n",
    "\n",
    "> Un arbre de décision est un outil d'aide à la décision représentant un ensemble de choix sous la forme graphique d'un arbre. Les différentes décisions possibles sont situées aux extrémités des branches, et sont atteintes en fonction de décisions prises à chaque étape\n"
   ]
  },
  {
   "cell_type": "markdown",
   "id": "fb7f7842",
   "metadata": {
    "slideshow": {
     "slide_type": "subslide"
    }
   },
   "source": [
    "<center><img src=\"https://s3.amazonaws.com/assets.datacamp.com/production/project_449/img/simple_decision_tree.png\" alt=\"Decision Tree Flow Chart Example\" width=\"350px\"></center>\n"
   ]
  },
  {
   "cell_type": "markdown",
   "id": "f1c3a6f7",
   "metadata": {
    "slideshow": {
     "slide_type": "subslide"
    }
   },
   "source": [
    "* <span style=\"color:red\"><b>Etape 1:</b></span> Diviser notre ensemble de données en sous-ensembles « train » et « test »."
   ]
  },
  {
   "cell_type": "code",
   "execution_count": 17,
   "id": "3b2af946",
   "metadata": {
    "slideshow": {
     "slide_type": "-"
    }
   },
   "outputs": [],
   "source": [
    "# Import train_test_split function and Decision tree classifier\n",
    "from sklearn.model_selection import train_test_split\n",
    "\n",
    "# Split our data\n",
    "train_features, test_features, train_labels, test_labels = train_test_split(pca_projection, labels, stratify = labels)\n",
    "\n",
    "# Train our decision tree\n",
    "from sklearn.tree import DecisionTreeClassifier\n",
    "tree = DecisionTreeClassifier(random_state = 10)\n",
    "tree.fit(train_features, train_labels)\n"
   ]
  },
  {
   "cell_type": "markdown",
   "id": "5f7512a1",
   "metadata": {
    "slideshow": {
     "slide_type": "subslide"
    }
   },
   "source": [
    "* <span style=\"color:red\"><b>Etape 2:</b></span> Prédiction des données à partir de l'arbre entraîner."
   ]
  },
  {
   "cell_type": "code",
   "execution_count": 19,
   "id": "3c50ce78",
   "metadata": {},
   "outputs": [],
   "source": [
    "# Predict the labels for the test data\n",
    "pred_labels_tree = tree.predict(test_features)"
   ]
  },
  {
   "cell_type": "markdown",
   "id": "0fbd3b23",
   "metadata": {},
   "source": [
    "* Score de classification de précision."
   ]
  },
  {
   "cell_type": "code",
   "execution_count": 20,
   "id": "3bfc1b94",
   "metadata": {},
   "outputs": [
    {
     "data": {
      "text/plain": [
       "0.8684429641965029"
      ]
     },
     "execution_count": 20,
     "metadata": {},
     "output_type": "execute_result"
    }
   ],
   "source": [
    "from sklearn.metrics import accuracy_score\n",
    "accuracy_score(test_labels, pred_labels_tree)"
   ]
  },
  {
   "cell_type": "markdown",
   "id": "eab7ac3f",
   "metadata": {},
   "source": [
    "<span style=\"color:orange\"><b>L'ensemble d'étiquettes prédit pour un échantillon correspondre 80% à l'ensemble d'étiquettes correspondant dans test_labels.</b></span>"
   ]
  },
  {
   "cell_type": "markdown",
   "id": "2db65161",
   "metadata": {},
   "source": [
    "* Mais pourquoi il ne sont pas exact 🤔🤔??? "
   ]
  },
  {
   "cell_type": "code",
   "execution_count": 22,
   "id": "ece0d4bd",
   "metadata": {
    "slideshow": {
     "slide_type": "subslide"
    }
   },
   "outputs": [
    {
     "data": {
      "text/plain": [
       "Rock       3892\n",
       "Hip-Hop     910\n",
       "Name: genre_top, dtype: int64"
      ]
     },
     "execution_count": 22,
     "metadata": {},
     "output_type": "execute_result"
    }
   ],
   "source": [
    "labels.value_counts()"
   ]
  },
  {
   "cell_type": "markdown",
   "id": "d30cf047",
   "metadata": {
    "slideshow": {
     "slide_type": "slide"
    }
   },
   "source": [
    "> Nos données sont déséquilibrées, donc ici la précision n'est pas vraiment une bonne mesure. Regardons la matrice de confusion."
   ]
  },
  {
   "cell_type": "code",
   "execution_count": 21,
   "id": "f07defb4",
   "metadata": {},
   "outputs": [
    {
     "data": {
      "text/plain": [
       "array([[149,  79],\n",
       "       [ 79, 894]], dtype=int64)"
      ]
     },
     "execution_count": 21,
     "metadata": {},
     "output_type": "execute_result"
    }
   ],
   "source": [
    "from sklearn.metrics import confusion_matrix\n",
    "confusion_matrix(test_labels, pred_labels_tree)"
   ]
  },
  {
   "cell_type": "markdown",
   "id": "46b532db",
   "metadata": {},
   "source": [
    "> Il faut tester au moins quelques autres algorithmes et de trouver qui convient le mieux à nos données, et qui seront encore plus performants "
   ]
  },
  {
   "cell_type": "markdown",
   "id": "d938e83a",
   "metadata": {
    "slideshow": {
     "slide_type": "slide"
    }
   },
   "source": [
    "## 7/ Arbre de décision vs Régression logistique\n",
    "Parfois, le plus simple est le meilleur, et nous allons donc commencer par appliquer la régression logistique . La régression logistique utilise ce qu'on appelle la fonction logistique pour calculer les chances qu'un point de données donné appartienne à une classe donnée.</br>\n",
    "\n",
    "<center><img src=\"https://datascientest.com/wp-content/uploads/2020/11/illu_regression_blog-16-1024x562.png\" alt=\"Decision Tree Flow Chart Example\" width=\"350px\"></center>\n"
   ]
  },
  {
   "cell_type": "markdown",
   "id": "ad7d915f",
   "metadata": {
    "slideshow": {
     "slide_type": "subslide"
    }
   },
   "source": [
    "Une fois que nous avons les deux modèles, nous pouvons les comparer sur quelques mesures de performance, telles que le taux de faux positifs et de faux négatifs (ou combien de points sont classés de manière inexacte)."
   ]
  },
  {
   "cell_type": "code",
   "execution_count": 23,
   "id": "1c621f7b",
   "metadata": {},
   "outputs": [],
   "source": [
    "# Import LogisticRegression\n",
    "from sklearn.linear_model import LogisticRegression\n",
    "\n",
    "# Train our logistic regression and predict labels for the test set\n",
    "logreg = LogisticRegression(random_state = 10)\n",
    "logreg.fit(train_features, train_labels)\n",
    "pred_labels_logit = logreg.predict(test_features)"
   ]
  },
  {
   "cell_type": "markdown",
   "id": "f5c1aa18",
   "metadata": {
    "slideshow": {
     "slide_type": "slide"
    }
   },
   "source": [
    "* Créer le rapport de classification pour les deux modèles"
   ]
  },
  {
   "cell_type": "code",
   "execution_count": 24,
   "id": "94b4f8e8",
   "metadata": {
    "slideshow": {
     "slide_type": "subslide"
    }
   },
   "outputs": [
    {
     "name": "stdout",
     "output_type": "stream",
     "text": [
      "Decision Tree: \n",
      "               precision    recall  f1-score   support\n",
      "\n",
      "     Hip-Hop       0.65      0.65      0.65       228\n",
      "        Rock       0.92      0.92      0.92       973\n",
      "\n",
      "    accuracy                           0.87      1201\n",
      "   macro avg       0.79      0.79      0.79      1201\n",
      "weighted avg       0.87      0.87      0.87      1201\n",
      "\n",
      "Logistic Regression: \n",
      "               precision    recall  f1-score   support\n",
      "\n",
      "     Hip-Hop       0.76      0.53      0.63       228\n",
      "        Rock       0.90      0.96      0.93       973\n",
      "\n",
      "    accuracy                           0.88      1201\n",
      "   macro avg       0.83      0.75      0.78      1201\n",
      "weighted avg       0.87      0.88      0.87      1201\n",
      "\n"
     ]
    }
   ],
   "source": [
    "from sklearn.metrics import classification_report\n",
    "class_rep_tree = classification_report(test_labels, pred_labels_tree)\n",
    "class_rep_log = classification_report(test_labels, pred_labels_logit)\n",
    "\n",
    "print(\"Decision Tree: \\n\", class_rep_tree)\n",
    "print(\"Logistic Regression: \\n\", class_rep_log)"
   ]
  },
  {
   "cell_type": "markdown",
   "id": "666867d5",
   "metadata": {
    "slideshow": {
     "slide_type": "slide"
    }
   },
   "source": [
    "## 8/ Équilibrer nos données pour plus de performances :\n",
    "Nos deux modèles fonctionnent de manière similaire, avec une précision moyenne de 87 % chacun.\n",
    "En regardant notre rapport de classification, nous pouvons voir que les chansons rock sont assez bien classées, mais les chansons hip-hop sont classées à de manière disproportionnée."
   ]
  },
  {
   "cell_type": "code",
   "execution_count": 30,
   "id": "26fbf6f1",
   "metadata": {
    "slideshow": {
     "slide_type": "subslide"
    }
   },
   "outputs": [
    {
     "data": {
      "text/html": [
       "<div>\n",
       "<style scoped>\n",
       "    .dataframe tbody tr th:only-of-type {\n",
       "        vertical-align: middle;\n",
       "    }\n",
       "\n",
       "    .dataframe tbody tr th {\n",
       "        vertical-align: top;\n",
       "    }\n",
       "\n",
       "    .dataframe thead th {\n",
       "        text-align: right;\n",
       "    }\n",
       "</style>\n",
       "<table border=\"1\" class=\"dataframe\">\n",
       "  <thead>\n",
       "    <tr style=\"text-align: right;\">\n",
       "      <th></th>\n",
       "      <th>track_id</th>\n",
       "      <th>genre_top</th>\n",
       "      <th>acousticness</th>\n",
       "      <th>danceability</th>\n",
       "      <th>energy</th>\n",
       "      <th>instrumentalness</th>\n",
       "      <th>liveness</th>\n",
       "      <th>speechiness</th>\n",
       "      <th>tempo</th>\n",
       "      <th>valence</th>\n",
       "    </tr>\n",
       "  </thead>\n",
       "  <tbody>\n",
       "    <tr>\n",
       "      <th>0</th>\n",
       "      <td>153</td>\n",
       "      <td>Rock</td>\n",
       "      <td>0.988306</td>\n",
       "      <td>0.255661</td>\n",
       "      <td>0.979774</td>\n",
       "      <td>0.973006</td>\n",
       "      <td>0.121342</td>\n",
       "      <td>0.051740</td>\n",
       "      <td>90.241</td>\n",
       "      <td>0.034018</td>\n",
       "    </tr>\n",
       "    <tr>\n",
       "      <th>1</th>\n",
       "      <td>154</td>\n",
       "      <td>Rock</td>\n",
       "      <td>0.970135</td>\n",
       "      <td>0.352946</td>\n",
       "      <td>0.023852</td>\n",
       "      <td>0.957113</td>\n",
       "      <td>0.113261</td>\n",
       "      <td>0.032177</td>\n",
       "      <td>53.758</td>\n",
       "      <td>0.035632</td>\n",
       "    </tr>\n",
       "    <tr>\n",
       "      <th>2</th>\n",
       "      <td>155</td>\n",
       "      <td>Rock</td>\n",
       "      <td>0.981657</td>\n",
       "      <td>0.142249</td>\n",
       "      <td>0.912122</td>\n",
       "      <td>0.967294</td>\n",
       "      <td>0.363510</td>\n",
       "      <td>0.087527</td>\n",
       "      <td>91.912</td>\n",
       "      <td>0.034325</td>\n",
       "    </tr>\n",
       "    <tr>\n",
       "      <th>3</th>\n",
       "      <td>169</td>\n",
       "      <td>Rock</td>\n",
       "      <td>0.989141</td>\n",
       "      <td>0.225978</td>\n",
       "      <td>0.722835</td>\n",
       "      <td>0.263076</td>\n",
       "      <td>0.092371</td>\n",
       "      <td>0.053406</td>\n",
       "      <td>94.322</td>\n",
       "      <td>0.028347</td>\n",
       "    </tr>\n",
       "    <tr>\n",
       "      <th>4</th>\n",
       "      <td>170</td>\n",
       "      <td>Rock</td>\n",
       "      <td>0.886660</td>\n",
       "      <td>0.298518</td>\n",
       "      <td>0.744333</td>\n",
       "      <td>0.920950</td>\n",
       "      <td>0.139587</td>\n",
       "      <td>0.088781</td>\n",
       "      <td>97.880</td>\n",
       "      <td>0.073548</td>\n",
       "    </tr>\n",
       "  </tbody>\n",
       "</table>\n",
       "</div>"
      ],
      "text/plain": [
       "   track_id genre_top  acousticness  danceability    energy  instrumentalness  \\\n",
       "0       153      Rock      0.988306      0.255661  0.979774          0.973006   \n",
       "1       154      Rock      0.970135      0.352946  0.023852          0.957113   \n",
       "2       155      Rock      0.981657      0.142249  0.912122          0.967294   \n",
       "3       169      Rock      0.989141      0.225978  0.722835          0.263076   \n",
       "4       170      Rock      0.886660      0.298518  0.744333          0.920950   \n",
       "\n",
       "   liveness  speechiness   tempo   valence  \n",
       "0  0.121342     0.051740  90.241  0.034018  \n",
       "1  0.113261     0.032177  53.758  0.035632  \n",
       "2  0.363510     0.087527  91.912  0.034325  \n",
       "3  0.092371     0.053406  94.322  0.028347  \n",
       "4  0.139587     0.088781  97.880  0.073548  "
      ]
     },
     "execution_count": 30,
     "metadata": {},
     "output_type": "execute_result"
    }
   ],
   "source": [
    "# Subset only the hip-hop tracks, and then only the rock tracks\n",
    "hop_only = echo_tracks.loc[echo_tracks['genre_top'] == 'Hip-Hop']\n",
    "rock_only = echo_tracks.loc[echo_tracks['genre_top'] == 'Rock']\n",
    "rock_only.head()"
   ]
  },
  {
   "cell_type": "code",
   "execution_count": 31,
   "id": "d2e0aafe",
   "metadata": {
    "slideshow": {
     "slide_type": "-"
    }
   },
   "outputs": [
    {
     "data": {
      "text/plain": [
       "((3892, 10), (910, 10))"
      ]
     },
     "execution_count": 31,
     "metadata": {},
     "output_type": "execute_result"
    }
   ],
   "source": [
    "rock_only.shape, hop_only.shape"
   ]
  },
  {
   "cell_type": "markdown",
   "id": "dd7e8e21",
   "metadata": {
    "slideshow": {
     "slide_type": "subslide"
    }
   },
   "source": [
    "Echantillonnez les chansons rock pour qu'elles soient le même nombre qu'il y a des chansons hip-hop"
   ]
  },
  {
   "cell_type": "code",
   "execution_count": 32,
   "id": "faf50a03",
   "metadata": {},
   "outputs": [
    {
     "data": {
      "text/plain": [
       "((910, 10), (910, 10))"
      ]
     },
     "execution_count": 32,
     "metadata": {},
     "output_type": "execute_result"
    }
   ],
   "source": [
    "rock_only = rock_only.sample(n= hop_only.shape[0])\n",
    "rock_only.shape, hop_only.shape"
   ]
  },
  {
   "cell_type": "code",
   "execution_count": 33,
   "id": "93b62f78",
   "metadata": {},
   "outputs": [
    {
     "data": {
      "text/plain": [
       "(1820, 10)"
      ]
     },
     "execution_count": 33,
     "metadata": {},
     "output_type": "execute_result"
    }
   ],
   "source": [
    "# concatenate the dataframes rock_only and hop_only\n",
    "rock_hop_bal = pd.concat([rock_only, hop_only])\n",
    "rock_hop_bal.shape"
   ]
  },
  {
   "cell_type": "code",
   "execution_count": 35,
   "id": "c4177ced",
   "metadata": {
    "slideshow": {
     "slide_type": "subslide"
    }
   },
   "outputs": [],
   "source": [
    "# The features, labels, and pca projection are created for the balanced dataframe\n",
    "features = rock_hop_bal.drop(['genre_top', 'track_id'], axis=1) \n",
    "labels = rock_hop_bal['genre_top']\n",
    "pca_projection = pca.fit_transform(scaler.fit_transform(features))\n",
    "\n",
    "# Redefine the train and test set with the pca_projection from the balanced data\n",
    "train_features, test_features, train_labels, test_labels = train_test_split(pca_projection,\n",
    "                                                                            labels,\n",
    "                                                                            stratify = labels,\n",
    "                                                                            random_state=10)"
   ]
  },
  {
   "cell_type": "markdown",
   "id": "5cf5c442",
   "metadata": {
    "slideshow": {
     "slide_type": "slide"
    }
   },
   "source": [
    "##  L'équilibrage de notre ensemble de données améliore-t-il le biais du modèle ?\n",
    "Nous avons maintenant équilibré notre ensemble de données, mais nous avons supprimé de nombreux points de données qui auraient pu être cruciaux pour l'entraînement de nos modèles. \n",
    "* Testons pour voir si l'équilibrage de nos données améliore le biais du modèle vers la classification « Rock » tout en conservant les performances globales de la classification."
   ]
  },
  {
   "cell_type": "code",
   "execution_count": 37,
   "id": "d7191034",
   "metadata": {
    "slideshow": {
     "slide_type": "subslide"
    }
   },
   "outputs": [],
   "source": [
    "# Train our decision tree on the balanced data\n",
    "tree = DecisionTreeClassifier(random_state=10)\n",
    "tree.fit(train_features, train_labels)\n",
    "pred_labels_tree = tree.predict(test_features)\n",
    "\n",
    "# Train our logistic regression on the balanced data\n",
    "logreg = LogisticRegression(random_state = 10)\n",
    "logreg.fit(train_features, train_labels)\n",
    "pred_labels_logit = logreg.predict(test_features)"
   ]
  },
  {
   "cell_type": "code",
   "execution_count": 46,
   "id": "7df23e9a",
   "metadata": {
    "slideshow": {
     "slide_type": "subslide"
    }
   },
   "outputs": [
    {
     "name": "stdout",
     "output_type": "stream",
     "text": [
      "Decision Tree: \n",
      "               precision    recall  f1-score   support\n",
      "\n",
      "     Hip-Hop       0.82      0.78      0.80       227\n",
      "        Rock       0.79      0.83      0.81       228\n",
      "\n",
      "    accuracy                           0.80       455\n",
      "   macro avg       0.81      0.80      0.80       455\n",
      "weighted avg       0.81      0.80      0.80       455\n",
      "\n",
      "Logistic Regression: \n",
      "               precision    recall  f1-score   support\n",
      "\n",
      "     Hip-Hop       0.87      0.78      0.82       227\n",
      "        Rock       0.80      0.88      0.84       228\n",
      "\n",
      "    accuracy                           0.83       455\n",
      "   macro avg       0.84      0.83      0.83       455\n",
      "weighted avg       0.84      0.83      0.83       455\n",
      "\n"
     ]
    }
   ],
   "source": [
    "# Compare the models\n",
    "print(\"Decision Tree: \\n\", classification_report(test_labels, pred_labels_tree))\n",
    "print(\"Logistic Regression: \\n\", classification_report(test_labels, pred_labels_logit))"
   ]
  },
  {
   "cell_type": "markdown",
   "id": "2104d947",
   "metadata": {
    "slideshow": {
     "slide_type": "slide"
    }
   },
   "source": [
    "<center><h1> <span style=\"color:red\"> validation croisée pour évaluer nos modèles</span> </h1></center>\n",
    "Succès! L'équilibrage de nos données a supprimé le biais en faveur de la classe la plus répandue. Pour avoir une bonne idée de la performance réelle de nos modèles, nous pouvons appliquer ce qu'on appelle la validation croisée (CV). Cette étape nous permet de comparer les modèles de façon plus rigoureuse"
   ]
  },
  {
   "cell_type": "code",
   "execution_count": 47,
   "id": "d48a3c37",
   "metadata": {
    "slideshow": {
     "slide_type": "subslide"
    }
   },
   "outputs": [
    {
     "name": "stdout",
     "output_type": "stream",
     "text": [
      "Decision Tree: 0.7780219780219779 Logistic Regression: 0.8456043956043956\n"
     ]
    }
   ],
   "source": [
    "from sklearn.model_selection import KFold, cross_val_score\n",
    "\n",
    "# Set up our K-fold cross-validation\n",
    "kf = KFold(n_splits=10, random_state=10, shuffle=True)\n",
    "\n",
    "tree = DecisionTreeClassifier(random_state=10)\n",
    "logreg = LogisticRegression(random_state=10)\n",
    "\n",
    "# Train our models using KFold cv\n",
    "tree_score = cross_val_score(tree, pca_projection, labels, cv = kf)\n",
    "logit_score = cross_val_score(logreg, pca_projection, labels, cv = kf)\n",
    "\n",
    "# Print the mean of each array of scores\n",
    "print(\"Decision Tree:\", np.mean(tree_score),\n",
    "      \"Logistic Regression:\", np.mean(logit_score))"
   ]
  },
  {
   "cell_type": "markdown",
   "id": "a8efb12d",
   "metadata": {
    "slideshow": {
     "slide_type": "slide"
    }
   },
   "source": [
    "<div class=\"alert alert-block alert-danger\"> <span style=\"color:#800000\">Type de diapo\n",
    "Nous pouvons voir ici que notre modèle de régression logistique simple a donné de meilleurs résultats que le modèle d'arbre de décision sur les données équilibrées. Nous pouvons essayer des modèles plus avancés comme Random Forest et SVM pour améliorer nos résultats.</span> </div>\n"
   ]
  }
 ],
 "metadata": {
  "celltoolbar": "Diaporama",
  "kernelspec": {
   "display_name": "Python 3",
   "language": "python",
   "name": "python3"
  },
  "language_info": {
   "codemirror_mode": {
    "name": "ipython",
    "version": 3
   },
   "file_extension": ".py",
   "mimetype": "text/x-python",
   "name": "python",
   "nbconvert_exporter": "python",
   "pygments_lexer": "ipython3",
   "version": "3.8.8"
  }
 },
 "nbformat": 4,
 "nbformat_minor": 5
}
